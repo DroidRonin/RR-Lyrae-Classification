{
 "cells": [
  {
   "cell_type": "markdown",
   "metadata": {},
   "source": [
    "# RR_LYRAE Dataset Analysis and Implementation of Machine Learning Algorithms\n",
    "First step involves importing essential python libaries. We will be analyzing the dataset by extracting it in frames with the help of pandas. We will then be plotting our data using matplotlib and seaborn for statistical visualizations. We have divided our notebook into two segments. The first segment will deal with analysis of Dataset and the second segment will deal with implementing various classifiers and testing their efficiencies through ROC graph.\n",
    "\n",
    "### About RR_Lyrae "
   ]
  },
  {
   "cell_type": "markdown",
   "metadata": {},
   "source": [
    "\n",
    "RR Lyraes are pulsating horizontal branch aging stars of spectral class A or F, with a mass of around half the Sun's. They are thought to have previously shed mass during the Red-giant branch phase, and consequently, they were once stars with similar or slightly less mass than the Sun, around 0.8 solar masses."
   ]
  },
  {
   "cell_type": "markdown",
   "metadata": {},
   "source": [
    "                                          Algorithms used \n",
    "1.Decision Tree\n",
    "2.SVM\n",
    "3.Linear Discriminator\n",
    "4.K-Neighbours\n",
    "5.Logistic Regression\n",
    "6.Naive Bayes "
   ]
  },
  {
   "cell_type": "code",
   "execution_count": 1,
   "metadata": {
    "collapsed": false
   },
   "outputs": [],
   "source": [
    "%matplotlib inline\n",
    "import numpy as np\n",
    "import pandas as pd\n",
    "from matplotlib import pyplot as plt\n",
    "import matplotlib\n",
    "import seaborn as sns\n",
    "\n",
    "from astroML.datasets import fetch_rrlyrae_combined\n",
    "from astroML.utils import completeness_contamination\n",
    "from astroML.utils import split_samples\n",
    "from astroML.plotting import setup_text_plots\n",
    "\n",
    "from sklearn.tree import DecisionTreeClassifier\n",
    "from sklearn.discriminant_analysis import LinearDiscriminantAnalysis as LDA\n",
    "from sklearn.linear_model import LogisticRegression\n",
    "from sklearn.neighbors import KNeighborsClassifier\n",
    "from sklearn.metrics import precision_recall_curve, roc_curve\n",
    "from sklearn.svm import SVC\n",
    "from sklearn.model_selection import cross_val_score\n",
    "from sklearn.naive_bayes import GaussianNB\n",
    "from sklearn.discriminant_analysis import LinearDiscriminantAnalysis\n",
    "from sklearn.neighbors import KNeighborsClassifier\n",
    "from sklearn.linear_model import LogisticRegression\n",
    "\n",
    "\n"
   ]
  },
  {
   "cell_type": "markdown",
   "metadata": {},
   "source": [
    "## 1. Analyzing the Dataset"
   ]
  },
  {
   "cell_type": "markdown",
   "metadata": {},
   "source": [
    "Let's define the text properties."
   ]
  },
  {
   "cell_type": "code",
   "execution_count": 2,
   "metadata": {
    "collapsed": false
   },
   "outputs": [],
   "source": [
    "setup_text_plots(fontsize=8, usetex=True)"
   ]
  },
  {
   "cell_type": "markdown",
   "metadata": {},
   "source": [
    "We import the data and split it the samples into training and test sets. We will be using dataframe attribute of pandas. "
   ]
  },
  {
   "cell_type": "code",
   "execution_count": 3,
   "metadata": {
    "collapsed": false
   },
   "outputs": [],
   "source": [
    "X, y = fetch_rrlyrae_combined()\n",
    "xd = pd.DataFrame(data=X)\n",
    "yd = pd.DataFrame(data=y)\n",
    "(X_train, X_test), (y_train, y_test) = split_samples(X, y, [0.75, 0.25], random_state=1)"
   ]
  },
  {
   "cell_type": "markdown",
   "metadata": {},
   "source": [
    "Our data is now in a tabular format"
   ]
  },
  {
   "cell_type": "code",
   "execution_count": 4,
   "metadata": {
    "collapsed": false
   },
   "outputs": [
    {
     "name": "stdout",
     "output_type": "stream",
     "text": [
      "              0         1         2         3\n",
      "0      1.250999  0.394000  0.137000  0.061999\n",
      "1      1.048000  0.339001  0.151999  0.023001\n",
      "2      1.008001  0.341999  0.129000  0.203001\n",
      "3      0.965000  0.392000  0.149000  0.150000\n",
      "4      1.040001  0.333000  0.125999  0.101999\n",
      "5      1.154001  0.373999  0.145000  0.121000\n",
      "6      0.965000  0.384001  0.118999  0.011000\n",
      "7      1.015001  0.370998  0.158001  0.091999\n",
      "8      1.003000  0.391001  0.145000  0.074999\n",
      "9      0.948000  0.330000  0.164000  0.021000\n",
      "10     1.020000  0.389999  0.168001  0.070999\n",
      "11     0.997999  0.381001  0.143999  0.092001\n",
      "12     0.882000  0.390999  0.130001  0.156000\n",
      "13     0.851000  0.289000  0.106001  0.028999\n",
      "14     0.985001  0.392000  0.147999  0.048000\n",
      "15     0.914000  0.329000  0.142000  0.077000\n",
      "16     1.011999  0.339001  0.166000  0.101999\n",
      "17     0.864000  0.372000  0.176001  0.070000\n",
      "18     1.035000  0.373001  0.191999  0.073999\n",
      "19     1.008999  0.353001  0.184000 -0.060001\n",
      "20     0.955000  0.393000  0.104000  0.230000\n",
      "21     0.970001  0.361000  0.152000  0.047998\n",
      "22     1.094002  0.390999  0.160000  0.049000\n",
      "23     1.099998  0.354000  0.128000  0.020000\n",
      "24     1.084000  0.358000  0.113001  0.010000\n",
      "25     0.789001  0.382000  0.153000  0.112000\n",
      "26     0.958000  0.335001  0.191000  0.142000\n",
      "27     0.882000  0.337000  0.175001  0.087000\n",
      "28     1.008001  0.386999  0.160999  0.046001\n",
      "29     1.129999  0.372999  0.172001  0.118999\n",
      "...         ...       ...       ...       ...\n",
      "93111  1.093000  0.099001  0.014000 -0.016001\n",
      "93112  1.168000  0.056000 -0.061000 -0.023000\n",
      "93113  1.128000  0.205000  0.059000 -0.006001\n",
      "93114  1.052999  0.105001  0.011000  0.005999\n",
      "93115  1.118999  0.125000  0.017000 -0.032999\n",
      "93116  1.115000  0.093000  0.011000 -0.007999\n",
      "93117  1.163000  0.044001 -0.005001 -0.042000\n",
      "93118  1.166000  0.203000  0.060000 -0.011000\n",
      "93119  1.139000  0.156000  0.049000 -0.016000\n",
      "93120  1.250999  0.046000 -0.025000 -0.038000\n",
      "93121  1.120000  0.174000  0.052000 -0.013000\n",
      "93122  1.076000  0.068001 -0.011002 -0.037998\n",
      "93123  1.212000  0.149000  0.033998 -0.046000\n",
      "93124  1.066999  0.096000  0.008000 -0.023000\n",
      "93125  1.107000  0.107000  0.025000 -0.012001\n",
      "93126  1.142000  0.044001 -0.009001 -0.056999\n",
      "93127  0.994999  0.077002 -0.009001 -0.035000\n",
      "93128  1.066999  0.103000  0.007000 -0.029000\n",
      "93129  1.212999  0.242001  0.052000 -0.015000\n",
      "93130  1.029001  0.151999  0.029001 -0.030001\n",
      "93131  1.125000  0.172001  0.042999  0.004000\n",
      "93132  0.974999  0.014000 -0.042999 -0.083000\n",
      "93133  1.133001  0.199999  0.059999  0.007000\n",
      "93134  1.157000  0.073000 -0.035000  0.010000\n",
      "93135  1.094000  0.219000  0.051001  0.000000\n",
      "93136  0.962999  0.059000 -0.025999 -0.025000\n",
      "93137  1.059999  0.185001  0.050999 -0.023998\n",
      "93138  1.044001  0.212000  0.035000  0.002001\n",
      "93139  1.064999  0.172001  0.042000  0.003000\n",
      "93140  1.125999  0.065001 -0.017000 -0.057999\n",
      "\n",
      "[93141 rows x 4 columns]\n"
     ]
    }
   ],
   "source": [
    "print(xd)"
   ]
  },
  {
   "cell_type": "code",
   "execution_count": 5,
   "metadata": {
    "collapsed": false
   },
   "outputs": [
    {
     "name": "stdout",
     "output_type": "stream",
     "text": [
      "         0\n",
      "0      0.0\n",
      "1      0.0\n",
      "2      0.0\n",
      "3      0.0\n",
      "4      0.0\n",
      "5      0.0\n",
      "6      0.0\n",
      "7      0.0\n",
      "8      0.0\n",
      "9      0.0\n",
      "10     0.0\n",
      "11     0.0\n",
      "12     0.0\n",
      "13     0.0\n",
      "14     0.0\n",
      "15     0.0\n",
      "16     0.0\n",
      "17     0.0\n",
      "18     0.0\n",
      "19     0.0\n",
      "20     0.0\n",
      "21     0.0\n",
      "22     0.0\n",
      "23     0.0\n",
      "24     0.0\n",
      "25     0.0\n",
      "26     0.0\n",
      "27     0.0\n",
      "28     0.0\n",
      "29     0.0\n",
      "...    ...\n",
      "93111  1.0\n",
      "93112  1.0\n",
      "93113  1.0\n",
      "93114  1.0\n",
      "93115  1.0\n",
      "93116  1.0\n",
      "93117  1.0\n",
      "93118  1.0\n",
      "93119  1.0\n",
      "93120  1.0\n",
      "93121  1.0\n",
      "93122  1.0\n",
      "93123  1.0\n",
      "93124  1.0\n",
      "93125  1.0\n",
      "93126  1.0\n",
      "93127  1.0\n",
      "93128  1.0\n",
      "93129  1.0\n",
      "93130  1.0\n",
      "93131  1.0\n",
      "93132  1.0\n",
      "93133  1.0\n",
      "93134  1.0\n",
      "93135  1.0\n",
      "93136  1.0\n",
      "93137  1.0\n",
      "93138  1.0\n",
      "93139  1.0\n",
      "93140  1.0\n",
      "\n",
      "[93141 rows x 1 columns]\n"
     ]
    }
   ],
   "source": [
    "print(yd)"
   ]
  },
  {
   "cell_type": "markdown",
   "metadata": {},
   "source": [
    "We will be plotting our data on a scatterplot which will give us an idea about two labels of stars and rr lyrae stars. "
   ]
  },
  {
   "cell_type": "code",
   "execution_count": 6,
   "metadata": {
    "collapsed": false
   },
   "outputs": [
    {
     "data": {
      "image/png": "[encoded data removed]",
      "text/plain": [
       "<matplotlib.figure.Figure at 0x7f53d9ea4e48>"
      ]
     },
     "metadata": {},
     "output_type": "display_data"
    }
   ],
   "source": [
    "stars = (y == 0)\n",
    "rrlyrae = (y == 1)\n",
    "ax = plt.axes()\n",
    "\n",
    "ax.plot(X[stars, 0], X[stars, 1], '.', ms=5, c='b', label='stars')\n",
    "ax.plot(X[rrlyrae, 0], X[rrlyrae, 1], '.', ms=5, c='r', label='RR-Lyrae')\n",
    "\n",
    "ax.legend(loc=10)\n",
    "\n",
    "ax.set_xlabel('$u-g$')\n",
    "ax.set_ylabel('$g-r$')\n",
    "\n",
    "ax.set_xlim(0.7, 1.4)\n",
    "ax.set_ylim(-0.2, 0.4)\n",
    "\n",
    "plt.show()\n",
    "\n"
   ]
  },
  {
   "cell_type": "markdown",
   "metadata": {},
   "source": [
    "Using seaborn library, we have various subplots explaining distribution of various frequencies and time domains. These subplots pertain to RR Lyrae type 1,2,3 and Normal star 0. "
   ]
  },
  {
   "cell_type": "code",
   "execution_count": 8,
   "metadata": {
    "collapsed": false
   },
   "outputs": [
    {
     "data": {
      "image/png": "[encoded data removed]",
      "text/plain": [
       "<matplotlib.figure.Figure at 0x7f53d1da4dd8>"
      ]
     },
     "metadata": {},
     "output_type": "display_data"
    }
   ],
   "source": [
    "sns.set(style=\"ticks\", color_codes=True)\n",
    "sns.pairplot(xd, diag_kind=\"kde\", markers=\"+\",plot_kws=dict(s=50, edgecolor=\"b\", linewidth=1),diag_kws=dict(shade=True))\n",
    "plt.show()"
   ]
  },
  {
   "cell_type": "markdown",
   "metadata": {},
   "source": [
    "The following lines will generate a visualization of density of stars in specific ranges. "
   ]
  },
  {
   "cell_type": "code",
   "execution_count": 11,
   "metadata": {
    "collapsed": false
   },
   "outputs": [
    {
     "data": {
      "image/png": "[encoded data removed]",
      "text/plain": [
       "<matplotlib.figure.Figure at 0x7f53d179ce10>"
      ]
     },
     "metadata": {},
     "output_type": "display_data"
    }
   ],
   "source": [
    "sns.set(style=\"whitegrid\", color_codes=True)\n",
    "sns.stripplot( data=xd, jitter=True)\n",
    "plt.show()"
   ]
  },
  {
   "cell_type": "markdown",
   "metadata": {
    "collapsed": false
   },
   "source": [
    "The following line of code will generate a visualization of distribution of our y dataset."
   ]
  },
  {
   "cell_type": "code",
   "execution_count": 13,
   "metadata": {
    "collapsed": false
   },
   "outputs": [
    {
     "data": {
      "image/png": "[encoded data removed]",
      "text/plain": [
       "<matplotlib.figure.Figure at 0x7f53d1741828>"
      ]
     },
     "metadata": {},
     "output_type": "display_data"
    }
   ],
   "source": [
    "sns.pairplot(yd, diag_kind=\"kde\", markers=\"+\",plot_kws=dict(s=50, edgecolor=\"b\", linewidth=1),diag_kws=dict(shade=True))\n",
    "plt.show()"
   ]
  },
  {
   "cell_type": "markdown",
   "metadata": {},
   "source": [
    "## 2. Implementing Machine Learning Algorithms"
   ]
  },
  {
   "cell_type": "markdown",
   "metadata": {},
   "source": [
    "#### 1. Decesion Tree Algorithm"
   ]
  },
  {
   "cell_type": "code",
   "execution_count": 16,
   "metadata": {
    "collapsed": false
   },
   "outputs": [],
   "source": [
    "clf = DecisionTreeClassifier(random_state=1, criterion='entropy')\n"
   ]
  },
  {
   "cell_type": "markdown",
   "metadata": {},
   "source": [
    "We fit our data to train the decision tree using X_train and y_train\n"
   ]
  },
  {
   "cell_type": "code",
   "execution_count": 17,
   "metadata": {
    "collapsed": false
   },
   "outputs": [
    {
     "data": {
      "text/plain": [
       "DecisionTreeClassifier(class_weight=None, criterion='entropy', max_depth=None,\n",
       "            max_features=None, max_leaf_nodes=None,\n",
       "            min_impurity_decrease=0.0, min_impurity_split=None,\n",
       "            min_samples_leaf=1, min_samples_split=2,\n",
       "            min_weight_fraction_leaf=0.0, presort=False, random_state=1,\n",
       "            splitter='best')"
      ]
     },
     "execution_count": 17,
     "metadata": {},
     "output_type": "execute_result"
    }
   ],
   "source": [
    "clf.fit(X_train, y_train)\n"
   ]
  },
  {
   "cell_type": "markdown",
   "metadata": {},
   "source": [
    "We will generate a prediction score for our decesion tree classifier"
   ]
  },
  {
   "cell_type": "code",
   "execution_count": 18,
   "metadata": {
    "collapsed": false
   },
   "outputs": [
    {
     "data": {
      "text/plain": [
       "array([[ 1.,  0.],\n",
       "       [ 1.,  0.],\n",
       "       [ 1.,  0.],\n",
       "       ..., \n",
       "       [ 1.,  0.],\n",
       "       [ 1.,  0.],\n",
       "       [ 1.,  0.]])"
      ]
     },
     "execution_count": 18,
     "metadata": {},
     "output_type": "execute_result"
    }
   ],
   "source": [
    "y_out = clf.predict(X_test)\n",
    "clf.predict_proba(X_test, check_input=True)\n",
    "\n"
   ]
  },
  {
   "cell_type": "markdown",
   "metadata": {},
   "source": [
    "We will be generating false positive and false negative for cross-validation"
   ]
  },
  {
   "cell_type": "code",
   "execution_count": 19,
   "metadata": {
    "collapsed": false
   },
   "outputs": [
    {
     "name": "stdout",
     "output_type": "stream",
     "text": [
      "----------------------------------------------------------------\n",
      "partial training set: (69499 non-variable, 356 RR Lyrae)\n",
      "positive = RR Lyrae, negative = non-variable\n",
      "false positives: 65 (47.4%)\n",
      "false negatives: 55 (0.2%)\n"
     ]
    }
   ],
   "source": [
    "tot_neg = np.sum(y_test == 0)\n",
    "tot_pos = np.sum(y_test == 1)\n",
    "\n",
    "fn = np.sum((y_test == 1) & (y_out == 0))\n",
    "tn = np.sum((y_test == 0) & (y_out == 0))\n",
    "\n",
    "fp = np.sum((y_test == 0) & (y_out == 1))\n",
    "tp = np.sum((y_test == 1) & (y_out == 1))\n",
    "\n",
    "print( \"----------------------------------------------------------------\")\n",
    "print (\"partial training set: (%i non-variable, %i RR Lyrae)\"\n",
    "       % (np.sum(y_train == 0), np.sum(y_train == 1)))\n",
    "print( \"positive = RR Lyrae, negative = non-variable\")\n",
    "print (\"false positives: %i (%.1f%%)\" % (fp, fp * 100. / (fp + tp)))\n",
    "print (\"false negatives: %i (%.1f%%)\" % (fn, fn * 100. / (fn + tn)))"
   ]
  },
  {
   "cell_type": "markdown",
   "metadata": {},
   "source": [
    "Accuracy Score: "
   ]
  },
  {
   "cell_type": "code",
   "execution_count": 20,
   "metadata": {
    "collapsed": false
   },
   "outputs": [
    {
     "data": {
      "text/plain": [
       "0.99484668899768103"
      ]
     },
     "execution_count": 20,
     "metadata": {},
     "output_type": "execute_result"
    }
   ],
   "source": [
    "clf.score(X_test,y_test)"
   ]
  },
  {
   "cell_type": "markdown",
   "metadata": {},
   "source": [
    "#### 2. Support Vector Machine"
   ]
  },
  {
   "cell_type": "code",
   "execution_count": 21,
   "metadata": {
    "collapsed": false
   },
   "outputs": [
    {
     "data": {
      "text/plain": [
       "SVC(C=1.0, cache_size=200, class_weight=None, coef0=0.0,\n",
       "  decision_function_shape='ovr', degree=3, gamma='auto', kernel='rbf',\n",
       "  max_iter=-1, probability=False, random_state=1, shrinking=True,\n",
       "  tol=0.001, verbose=False)"
      ]
     },
     "execution_count": 21,
     "metadata": {},
     "output_type": "execute_result"
    }
   ],
   "source": [
    "clf =SVC(random_state=1)\n",
    "clf.fit(X_train, y_train) \n"
   ]
  },
  {
   "cell_type": "code",
   "execution_count": 22,
   "metadata": {
    "collapsed": false
   },
   "outputs": [
    {
     "data": {
      "text/plain": [
       "0.99454607918921245"
      ]
     },
     "execution_count": 22,
     "metadata": {},
     "output_type": "execute_result"
    }
   ],
   "source": [
    "clf.score(X_test,y_test)"
   ]
  },
  {
   "cell_type": "code",
   "execution_count": 23,
   "metadata": {
    "collapsed": false
   },
   "outputs": [
    {
     "name": "stdout",
     "output_type": "stream",
     "text": [
      "[ 0.  0.  0. ...,  0.  0.  0.]\n"
     ]
    }
   ],
   "source": [
    "print(clf.predict(X_test))"
   ]
  },
  {
   "cell_type": "markdown",
   "metadata": {},
   "source": [
    "#### 3. Linear Discriminant Analysis"
   ]
  },
  {
   "cell_type": "code",
   "execution_count": 24,
   "metadata": {
    "collapsed": false
   },
   "outputs": [
    {
     "data": {
      "text/plain": [
       "LinearDiscriminantAnalysis(n_components=None, priors=None, shrinkage=None,\n",
       "              solver='svd', store_covariance=False, tol=0.0001)"
      ]
     },
     "execution_count": 24,
     "metadata": {},
     "output_type": "execute_result"
    }
   ],
   "source": [
    "clf = LinearDiscriminantAnalysis()\n",
    "clf.fit(X_train,y_train)\n"
   ]
  },
  {
   "cell_type": "code",
   "execution_count": 25,
   "metadata": {
    "collapsed": false
   },
   "outputs": [
    {
     "data": {
      "text/plain": [
       "0.97973031005754529"
      ]
     },
     "execution_count": 25,
     "metadata": {},
     "output_type": "execute_result"
    }
   ],
   "source": [
    "clf.score(X_test, y_test)\n"
   ]
  },
  {
   "cell_type": "code",
   "execution_count": 26,
   "metadata": {
    "collapsed": false
   },
   "outputs": [
    {
     "name": "stdout",
     "output_type": "stream",
     "text": [
      "[ 0.  0.  0. ...,  0.  0.  0.]\n"
     ]
    }
   ],
   "source": [
    "print(clf.predict(X_test))\n"
   ]
  },
  {
   "cell_type": "markdown",
   "metadata": {},
   "source": [
    "#### 4. K Nearest Neighbour"
   ]
  },
  {
   "cell_type": "code",
   "execution_count": 27,
   "metadata": {
    "collapsed": false
   },
   "outputs": [
    {
     "data": {
      "text/plain": [
       "KNeighborsClassifier(algorithm='auto', leaf_size=30, metric='minkowski',\n",
       "           metric_params=None, n_jobs=1, n_neighbors=5, p=2,\n",
       "           weights='uniform')"
      ]
     },
     "execution_count": 27,
     "metadata": {},
     "output_type": "execute_result"
    }
   ],
   "source": [
    "clf = KNeighborsClassifier()\n",
    "clf.fit(X_train, y_train)\n"
   ]
  },
  {
   "cell_type": "code",
   "execution_count": 28,
   "metadata": {
    "collapsed": false
   },
   "outputs": [
    {
     "data": {
      "text/plain": [
       "0.99639268229837674"
      ]
     },
     "execution_count": 28,
     "metadata": {},
     "output_type": "execute_result"
    }
   ],
   "source": [
    "clf.score(X_test,y_test)\n"
   ]
  },
  {
   "cell_type": "code",
   "execution_count": 29,
   "metadata": {
    "collapsed": false
   },
   "outputs": [
    {
     "name": "stdout",
     "output_type": "stream",
     "text": [
      "[ 0.  0.  0. ...,  0.  0.  0.]\n"
     ]
    }
   ],
   "source": [
    "print(clf.predict(X_test))"
   ]
  },
  {
   "cell_type": "markdown",
   "metadata": {},
   "source": [
    "#### 5. Naive Bayes"
   ]
  },
  {
   "cell_type": "code",
   "execution_count": 30,
   "metadata": {
    "collapsed": false
   },
   "outputs": [
    {
     "data": {
      "text/plain": [
       "GaussianNB(priors=None)"
      ]
     },
     "execution_count": 30,
     "metadata": {},
     "output_type": "execute_result"
    }
   ],
   "source": [
    "clf = GaussianNB()\n",
    "clf.fit(X_train, y_train)"
   ]
  },
  {
   "cell_type": "code",
   "execution_count": 31,
   "metadata": {
    "collapsed": false
   },
   "outputs": [
    {
     "data": {
      "text/plain": [
       "0.97801253972343893"
      ]
     },
     "execution_count": 31,
     "metadata": {},
     "output_type": "execute_result"
    }
   ],
   "source": [
    "clf.score(X_test,y_test)"
   ]
  },
  {
   "cell_type": "code",
   "execution_count": 32,
   "metadata": {
    "collapsed": false
   },
   "outputs": [
    {
     "name": "stdout",
     "output_type": "stream",
     "text": [
      "[ 0.  0.  0. ...,  0.  0.  0.]\n"
     ]
    }
   ],
   "source": [
    "print(clf.predict(X_test))\n"
   ]
  },
  {
   "cell_type": "markdown",
   "metadata": {},
   "source": [
    "#### 6. Logistic Regression"
   ]
  },
  {
   "cell_type": "code",
   "execution_count": 33,
   "metadata": {
    "collapsed": false
   },
   "outputs": [
    {
     "data": {
      "text/plain": [
       "LogisticRegression(C=1.0, class_weight=None, dual=False, fit_intercept=True,\n",
       "          intercept_scaling=1, max_iter=100, multi_class='ovr', n_jobs=1,\n",
       "          penalty='l2', random_state=None, solver='liblinear', tol=0.0001,\n",
       "          verbose=0, warm_start=False)"
      ]
     },
     "execution_count": 33,
     "metadata": {},
     "output_type": "execute_result"
    }
   ],
   "source": [
    "clf = LogisticRegression(fit_intercept=True, intercept_scaling=1, class_weight=None, random_state=None)\n",
    "clf.fit(X_train,y_train)\n"
   ]
  },
  {
   "cell_type": "code",
   "execution_count": 34,
   "metadata": {
    "collapsed": false
   },
   "outputs": [
    {
     "data": {
      "text/plain": [
       "0.99454607918921245"
      ]
     },
     "execution_count": 34,
     "metadata": {},
     "output_type": "execute_result"
    }
   ],
   "source": [
    "clf.score(X_test,y_test)"
   ]
  },
  {
   "cell_type": "code",
   "execution_count": 35,
   "metadata": {
    "collapsed": false
   },
   "outputs": [
    {
     "name": "stdout",
     "output_type": "stream",
     "text": [
      "[ 0.  0.  0. ...,  0.  0.  0.]\n"
     ]
    }
   ],
   "source": [
    "print(clf.predict(X_test))"
   ]
  },
  {
   "cell_type": "markdown",
   "metadata": {},
   "source": [
    "We will now fit our training data to generate ROC curves for our classifiers"
   ]
  },
  {
   "cell_type": "code",
   "execution_count": 36,
   "metadata": {
    "collapsed": false
   },
   "outputs": [
    {
     "name": "stdout",
     "output_type": "stream",
     "text": [
      "LinearDiscriminantAnalysis\n",
      "LogisticRegression\n",
      "KNeighborsClassifier\n",
      "DecisionTreeClassifier\n",
      "GaussianNB\n"
     ]
    }
   ],
   "source": [
    "def compute_models(*args):\n",
    "    names = []\n",
    "    probs = []\n",
    "    for classifier, kwargs in args:\n",
    "        print (classifier.__name__)\n",
    "        clf = classifier(**kwargs)\n",
    "        clf.fit(X_train, y_train)\n",
    "        y_probs = clf.predict_proba(X_test)[:, 1]\n",
    "\n",
    "        names.append(classifier.__name__)\n",
    "        probs.append(y_probs)\n",
    "\n",
    "    return names, probs\n",
    "\n",
    "names, probs = compute_models(\n",
    "                              (LDA, {}),\n",
    "                              \n",
    "                              (LogisticRegression,\n",
    "                               dict(class_weight='balanced')),\n",
    "                              (KNeighborsClassifier,\n",
    "                               dict(n_neighbors=10)),\n",
    "                              (DecisionTreeClassifier,\n",
    "                               dict(random_state=0, max_depth=12,\n",
    "                                    criterion='entropy')),\n",
    "                              (GaussianNB, {})\n",
    "    \n",
    "                             )\n"
   ]
  },
  {
   "cell_type": "markdown",
   "metadata": {},
   "source": [
    "We will test our classifier's efficiency in this segment"
   ]
  },
  {
   "cell_type": "code",
   "execution_count": 40,
   "metadata": {
    "collapsed": false
   },
   "outputs": [
    {
     "data": {
      "text/plain": [
       "<matplotlib.figure.Figure at 0x7f53d0611470>"
      ]
     },
     "metadata": {},
     "output_type": "display_data"
    }
   ],
   "source": [
    "fig = plt.figure(figsize=(12, 8.5))\n",
    "fig.subplots_adjust(left=0.1, right=0.95, bottom=0.15, top=0.9, wspace=0.25)\n",
    "\n",
    "\n",
    "\n",
    "labels = dict(LinearDiscriminantAnalysis='LDA',\n",
    "              KNeighborsClassifier='KNN',\n",
    "              DecisionTreeClassifier='DT',\n",
    "              GaussianNB = 'GNB',\n",
    "              LogisticRegression='LR'\n",
    "              )\n",
    "\n"
   ]
  },
  {
   "cell_type": "markdown",
   "metadata": {
    "collapsed": false
   },
   "source": [
    "The slopes of K Nearest Neighbor 'KNN' and Decesion Tree 'DT' are a good fit and therefore, good classifiers for our data. However, the curves for Logistic Regression 'LR' and Linear Discriminant Analysis 'LDA' are quite steep."
   ]
  },
  {
   "cell_type": "code",
   "execution_count": 39,
   "metadata": {
    "collapsed": false
   },
   "outputs": [
    {
     "data": {
      "image/png": "[encoded data removed]",
      "text/plain": [
       "<matplotlib.figure.Figure at 0x7f53d015e2b0>"
      ]
     },
     "metadata": {},
     "output_type": "display_data"
    }
   ],
   "source": [
    "thresholds = np.linspace(0, 1, 1001)[:-1]\n",
    "# ax2 will show roc curves\n",
    "ax1 = plt.subplot(121)\n",
    "\n",
    "# ax1 will show completeness/efficiency\n",
    "ax2 = plt.subplot(122)\n",
    "# iterate through and show results\n",
    "for name, y_prob in zip(names, probs):\n",
    "    fpr, tpr, thresh = roc_curve(y_test, y_prob)\n",
    "\n",
    "    # add (0, 0) as first point\n",
    "    fpr = np.concatenate([[0], fpr])\n",
    "    tpr = np.concatenate([[0], tpr])\n",
    "\n",
    "    ax1.plot(fpr, tpr, label=labels[name])\n",
    "\n",
    "    comp = np.zeros_like(thresholds)\n",
    "    cont = np.zeros_like(thresholds)\n",
    "    for i, t in enumerate(thresholds):\n",
    "        y_pred = (y_prob >= t)\n",
    "        comp[i], cont[i] = completeness_contamination(y_pred, y_test)\n",
    "    ax2.plot(1 - cont, comp, label=labels[name])\n",
    "\n",
    "ax1.set_xlim(0, 0.04)\n",
    "ax1.set_ylim(0, 1.02)\n",
    "ax1.xaxis.set_major_locator(plt.MaxNLocator(5))\n",
    "ax1.set_xlabel('false positive rate')\n",
    "ax1.set_ylabel('true positive rate')\n",
    "ax1.legend(loc=4)\n",
    "\n",
    "ax2.set_xlabel('efficiency')\n",
    "ax2.set_ylabel('completeness')\n",
    "ax2.set_xlim(0, 1.0)\n",
    "ax2.set_ylim(0.2, 1.02)\n",
    "\n",
    "plt.show()"
   ]
  },
  {
   "cell_type": "code",
   "execution_count": null,
   "metadata": {
    "collapsed": true
   },
   "outputs": [],
   "source": []
  }
 ],
 "metadata": {
  "anaconda-cloud": {},
  "kernelspec": {
   "display_name": "Python [conda env:py3]",
   "language": "python",
   "name": "conda-env-py3-py"
  },
  "language_info": {
   "codemirror_mode": {
    "name": "ipython",
    "version": 3
   },
   "file_extension": ".py",
   "mimetype": "text/x-python",
   "name": "python",
   "nbconvert_exporter": "python",
   "pygments_lexer": "ipython3",
   "version": "3.6.3"
  }
 },
 "nbformat": 4,
 "nbformat_minor": 1
}
